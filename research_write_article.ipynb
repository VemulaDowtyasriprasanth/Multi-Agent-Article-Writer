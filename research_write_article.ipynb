{
 "cells": [
  {
   "cell_type": "markdown",
   "metadata": {},
   "source": [
    "You can download the `requirements.txt` for this course from the workspace of this lab. `File --> Open...`"
   ]
  },
  {
   "cell_type": "markdown",
   "metadata": {},
   "source": [
    "# Create Agents to Research and Write an Article\n",
    "\n",
    "In  introduced to the foundational concepts of multi-agent systems and get an overview of the crewAI framework."
   ]
  },
  {
   "cell_type": "markdown",
   "metadata": {},
   "source": [
    "The libraries are already installed in the classroom. If you're running this notebook on your own machine, you can install the following:\n",
    "```Python\n",
    "!pip install crewai==0.28.8 crewai_tools==0.1.6 langchain_community==0.0.29\n",
    "```"
   ]
  },
  {
   "cell_type": "code",
   "execution_count": 2,
   "metadata": {},
   "outputs": [
    {
     "name": "stdout",
     "output_type": "stream",
     "text": [
      "Note: you may need to restart the kernel to use updated packages.\n"
     ]
    },
    {
     "name": "stderr",
     "output_type": "stream",
     "text": [
      "\n",
      "[notice] A new release of pip is available: 24.0 -> 25.0\n",
      "[notice] To update, run: python.exe -m pip install --upgrade pip\n"
     ]
    },
    {
     "name": "stdout",
     "output_type": "stream",
     "text": [
      "Requirement already satisfied: crewai==0.28.8 in c:\\users\\wwwdo\\desktop\\research and article writer agents\\venv\\lib\\site-packages (0.28.8)\n",
      "Requirement already satisfied: crewai_tools==0.1.6 in c:\\users\\wwwdo\\desktop\\research and article writer agents\\venv\\lib\\site-packages (0.1.6)\n",
      "Requirement already satisfied: langchain_community==0.0.29 in c:\\users\\wwwdo\\desktop\\research and article writer agents\\venv\\lib\\site-packages (0.0.29)\n",
      "Requirement already satisfied: appdirs<2.0.0,>=1.4.4 in c:\\users\\wwwdo\\desktop\\research and article writer agents\\venv\\lib\\site-packages (from crewai==0.28.8) (1.4.4)\n",
      "Requirement already satisfied: click<9.0.0,>=8.1.7 in c:\\users\\wwwdo\\desktop\\research and article writer agents\\venv\\lib\\site-packages (from crewai==0.28.8) (8.1.7)\n",
      "Requirement already satisfied: embedchain<0.2.0,>=0.1.98 in c:\\users\\wwwdo\\desktop\\research and article writer agents\\venv\\lib\\site-packages (from crewai==0.28.8) (0.1.113)\n",
      "Requirement already satisfied: instructor<0.6.0,>=0.5.2 in c:\\users\\wwwdo\\desktop\\research and article writer agents\\venv\\lib\\site-packages (from crewai==0.28.8) (0.5.2)\n",
      "Requirement already satisfied: langchain<0.2.0,>=0.1.10 in c:\\users\\wwwdo\\desktop\\research and article writer agents\\venv\\lib\\site-packages (from crewai==0.28.8) (0.1.13)\n",
      "Requirement already satisfied: openai<2.0.0,>=1.13.3 in c:\\users\\wwwdo\\desktop\\research and article writer agents\\venv\\lib\\site-packages (from crewai==0.28.8) (1.60.2)\n",
      "Requirement already satisfied: opentelemetry-api<2.0.0,>=1.22.0 in c:\\users\\wwwdo\\desktop\\research and article writer agents\\venv\\lib\\site-packages (from crewai==0.28.8) (1.29.0)\n",
      "Requirement already satisfied: opentelemetry-exporter-otlp-proto-http<2.0.0,>=1.22.0 in c:\\users\\wwwdo\\desktop\\research and article writer agents\\venv\\lib\\site-packages (from crewai==0.28.8) (1.29.0)\n",
      "Requirement already satisfied: opentelemetry-sdk<2.0.0,>=1.22.0 in c:\\users\\wwwdo\\desktop\\research and article writer agents\\venv\\lib\\site-packages (from crewai==0.28.8) (1.29.0)\n",
      "Requirement already satisfied: pydantic<3.0.0,>=2.4.2 in c:\\users\\wwwdo\\desktop\\research and article writer agents\\venv\\lib\\site-packages (from crewai==0.28.8) (2.10.6)\n",
      "Requirement already satisfied: python-dotenv==1.0.0 in c:\\users\\wwwdo\\desktop\\research and article writer agents\\venv\\lib\\site-packages (from crewai==0.28.8) (1.0.0)\n",
      "Requirement already satisfied: regex<2024.0.0,>=2023.12.25 in c:\\users\\wwwdo\\desktop\\research and article writer agents\\venv\\lib\\site-packages (from crewai==0.28.8) (2023.12.25)\n",
      "Requirement already satisfied: beautifulsoup4<5.0.0,>=4.12.3 in c:\\users\\wwwdo\\desktop\\research and article writer agents\\venv\\lib\\site-packages (from crewai_tools==0.1.6) (4.12.3)\n",
      "Requirement already satisfied: chromadb<0.5.0,>=0.4.22 in c:\\users\\wwwdo\\desktop\\research and article writer agents\\venv\\lib\\site-packages (from crewai_tools==0.1.6) (0.4.24)\n",
      "Requirement already satisfied: lancedb<0.6.0,>=0.5.4 in c:\\users\\wwwdo\\desktop\\research and article writer agents\\venv\\lib\\site-packages (from crewai_tools==0.1.6) (0.5.7)\n",
      "Requirement already satisfied: pyright<2.0.0,>=1.1.350 in c:\\users\\wwwdo\\desktop\\research and article writer agents\\venv\\lib\\site-packages (from crewai_tools==0.1.6) (1.1.392.post0)\n",
      "Requirement already satisfied: pytest<9.0.0,>=8.0.0 in c:\\users\\wwwdo\\desktop\\research and article writer agents\\venv\\lib\\site-packages (from crewai_tools==0.1.6) (8.3.4)\n",
      "Requirement already satisfied: pytube<16.0.0,>=15.0.0 in c:\\users\\wwwdo\\desktop\\research and article writer agents\\venv\\lib\\site-packages (from crewai_tools==0.1.6) (15.0.0)\n",
      "Requirement already satisfied: requests<3.0.0,>=2.31.0 in c:\\users\\wwwdo\\desktop\\research and article writer agents\\venv\\lib\\site-packages (from crewai_tools==0.1.6) (2.32.3)\n",
      "Requirement already satisfied: selenium<5.0.0,>=4.18.1 in c:\\users\\wwwdo\\desktop\\research and article writer agents\\venv\\lib\\site-packages (from crewai_tools==0.1.6) (4.28.1)\n",
      "Requirement already satisfied: PyYAML>=5.3 in c:\\users\\wwwdo\\desktop\\research and article writer agents\\venv\\lib\\site-packages (from langchain_community==0.0.29) (6.0.2)\n",
      "Requirement already satisfied: SQLAlchemy<3,>=1.4 in c:\\users\\wwwdo\\desktop\\research and article writer agents\\venv\\lib\\site-packages (from langchain_community==0.0.29) (2.0.37)\n",
      "Requirement already satisfied: aiohttp<4.0.0,>=3.8.3 in c:\\users\\wwwdo\\desktop\\research and article writer agents\\venv\\lib\\site-packages (from langchain_community==0.0.29) (3.11.11)\n",
      "Requirement already satisfied: dataclasses-json<0.7,>=0.5.7 in c:\\users\\wwwdo\\desktop\\research and article writer agents\\venv\\lib\\site-packages (from langchain_community==0.0.29) (0.6.7)\n",
      "Requirement already satisfied: langchain-core<0.2.0,>=0.1.33 in c:\\users\\wwwdo\\desktop\\research and article writer agents\\venv\\lib\\site-packages (from langchain_community==0.0.29) (0.1.53)\n",
      "Requirement already satisfied: langsmith<0.2.0,>=0.1.0 in c:\\users\\wwwdo\\desktop\\research and article writer agents\\venv\\lib\\site-packages (from langchain_community==0.0.29) (0.1.147)\n",
      "Requirement already satisfied: numpy<2,>=1 in c:\\users\\wwwdo\\desktop\\research and article writer agents\\venv\\lib\\site-packages (from langchain_community==0.0.29) (1.26.4)\n",
      "Requirement already satisfied: tenacity<9.0.0,>=8.1.0 in c:\\users\\wwwdo\\desktop\\research and article writer agents\\venv\\lib\\site-packages (from langchain_community==0.0.29) (8.5.0)\n",
      "Requirement already satisfied: aiohappyeyeballs>=2.3.0 in c:\\users\\wwwdo\\desktop\\research and article writer agents\\venv\\lib\\site-packages (from aiohttp<4.0.0,>=3.8.3->langchain_community==0.0.29) (2.4.4)\n",
      "Requirement already satisfied: aiosignal>=1.1.2 in c:\\users\\wwwdo\\desktop\\research and article writer agents\\venv\\lib\\site-packages (from aiohttp<4.0.0,>=3.8.3->langchain_community==0.0.29) (1.3.2)\n",
      "Requirement already satisfied: attrs>=17.3.0 in c:\\users\\wwwdo\\desktop\\research and article writer agents\\venv\\lib\\site-packages (from aiohttp<4.0.0,>=3.8.3->langchain_community==0.0.29) (25.1.0)\n",
      "Requirement already satisfied: frozenlist>=1.1.1 in c:\\users\\wwwdo\\desktop\\research and article writer agents\\venv\\lib\\site-packages (from aiohttp<4.0.0,>=3.8.3->langchain_community==0.0.29) (1.5.0)\n",
      "Requirement already satisfied: multidict<7.0,>=4.5 in c:\\users\\wwwdo\\desktop\\research and article writer agents\\venv\\lib\\site-packages (from aiohttp<4.0.0,>=3.8.3->langchain_community==0.0.29) (6.1.0)\n",
      "Requirement already satisfied: propcache>=0.2.0 in c:\\users\\wwwdo\\desktop\\research and article writer agents\\venv\\lib\\site-packages (from aiohttp<4.0.0,>=3.8.3->langchain_community==0.0.29) (0.2.1)\n",
      "Requirement already satisfied: yarl<2.0,>=1.17.0 in c:\\users\\wwwdo\\desktop\\research and article writer agents\\venv\\lib\\site-packages (from aiohttp<4.0.0,>=3.8.3->langchain_community==0.0.29) (1.18.3)\n",
      "Requirement already satisfied: soupsieve>1.2 in c:\\users\\wwwdo\\desktop\\research and article writer agents\\venv\\lib\\site-packages (from beautifulsoup4<5.0.0,>=4.12.3->crewai_tools==0.1.6) (2.6)\n",
      "Requirement already satisfied: build>=1.0.3 in c:\\users\\wwwdo\\desktop\\research and article writer agents\\venv\\lib\\site-packages (from chromadb<0.5.0,>=0.4.22->crewai_tools==0.1.6) (1.2.2.post1)\n",
      "Requirement already satisfied: chroma-hnswlib==0.7.3 in c:\\users\\wwwdo\\desktop\\research and article writer agents\\venv\\lib\\site-packages (from chromadb<0.5.0,>=0.4.22->crewai_tools==0.1.6) (0.7.3)\n",
      "Requirement already satisfied: fastapi>=0.95.2 in c:\\users\\wwwdo\\desktop\\research and article writer agents\\venv\\lib\\site-packages (from chromadb<0.5.0,>=0.4.22->crewai_tools==0.1.6) (0.115.7)\n",
      "Requirement already satisfied: uvicorn>=0.18.3 in c:\\users\\wwwdo\\desktop\\research and article writer agents\\venv\\lib\\site-packages (from uvicorn[standard]>=0.18.3->chromadb<0.5.0,>=0.4.22->crewai_tools==0.1.6) (0.34.0)\n",
      "Requirement already satisfied: posthog>=2.4.0 in c:\\users\\wwwdo\\desktop\\research and article writer agents\\venv\\lib\\site-packages (from chromadb<0.5.0,>=0.4.22->crewai_tools==0.1.6) (3.11.0)\n",
      "Requirement already satisfied: typing-extensions>=4.5.0 in c:\\users\\wwwdo\\desktop\\research and article writer agents\\venv\\lib\\site-packages (from chromadb<0.5.0,>=0.4.22->crewai_tools==0.1.6) (4.12.2)\n",
      "Requirement already satisfied: pulsar-client>=3.1.0 in c:\\users\\wwwdo\\desktop\\research and article writer agents\\venv\\lib\\site-packages (from chromadb<0.5.0,>=0.4.22->crewai_tools==0.1.6) (3.6.0)\n",
      "Requirement already satisfied: onnxruntime>=1.14.1 in c:\\users\\wwwdo\\desktop\\research and article writer agents\\venv\\lib\\site-packages (from chromadb<0.5.0,>=0.4.22->crewai_tools==0.1.6) (1.20.1)\n",
      "Requirement already satisfied: opentelemetry-exporter-otlp-proto-grpc>=1.2.0 in c:\\users\\wwwdo\\desktop\\research and article writer agents\\venv\\lib\\site-packages (from chromadb<0.5.0,>=0.4.22->crewai_tools==0.1.6) (1.29.0)\n",
      "Requirement already satisfied: opentelemetry-instrumentation-fastapi>=0.41b0 in c:\\users\\wwwdo\\desktop\\research and article writer agents\\venv\\lib\\site-packages (from chromadb<0.5.0,>=0.4.22->crewai_tools==0.1.6) (0.50b0)\n",
      "Requirement already satisfied: tokenizers>=0.13.2 in c:\\users\\wwwdo\\desktop\\research and article writer agents\\venv\\lib\\site-packages (from chromadb<0.5.0,>=0.4.22->crewai_tools==0.1.6) (0.21.0)\n",
      "Requirement already satisfied: pypika>=0.48.9 in c:\\users\\wwwdo\\desktop\\research and article writer agents\\venv\\lib\\site-packages (from chromadb<0.5.0,>=0.4.22->crewai_tools==0.1.6) (0.48.9)\n",
      "Requirement already satisfied: tqdm>=4.65.0 in c:\\users\\wwwdo\\desktop\\research and article writer agents\\venv\\lib\\site-packages (from chromadb<0.5.0,>=0.4.22->crewai_tools==0.1.6) (4.67.1)\n",
      "Requirement already satisfied: overrides>=7.3.1 in c:\\users\\wwwdo\\desktop\\research and article writer agents\\venv\\lib\\site-packages (from chromadb<0.5.0,>=0.4.22->crewai_tools==0.1.6) (7.7.0)\n",
      "Requirement already satisfied: importlib-resources in c:\\users\\wwwdo\\desktop\\research and article writer agents\\venv\\lib\\site-packages (from chromadb<0.5.0,>=0.4.22->crewai_tools==0.1.6) (6.5.2)\n",
      "Requirement already satisfied: grpcio>=1.58.0 in c:\\users\\wwwdo\\desktop\\research and article writer agents\\venv\\lib\\site-packages (from chromadb<0.5.0,>=0.4.22->crewai_tools==0.1.6) (1.70.0)\n",
      "Requirement already satisfied: bcrypt>=4.0.1 in c:\\users\\wwwdo\\desktop\\research and article writer agents\\venv\\lib\\site-packages (from chromadb<0.5.0,>=0.4.22->crewai_tools==0.1.6) (4.2.1)\n",
      "Requirement already satisfied: typer>=0.9.0 in c:\\users\\wwwdo\\desktop\\research and article writer agents\\venv\\lib\\site-packages (from chromadb<0.5.0,>=0.4.22->crewai_tools==0.1.6) (0.9.4)\n",
      "Requirement already satisfied: kubernetes>=28.1.0 in c:\\users\\wwwdo\\desktop\\research and article writer agents\\venv\\lib\\site-packages (from chromadb<0.5.0,>=0.4.22->crewai_tools==0.1.6) (32.0.0)\n",
      "Requirement already satisfied: mmh3>=4.0.1 in c:\\users\\wwwdo\\desktop\\research and article writer agents\\venv\\lib\\site-packages (from chromadb<0.5.0,>=0.4.22->crewai_tools==0.1.6) (5.1.0)\n",
      "Requirement already satisfied: orjson>=3.9.12 in c:\\users\\wwwdo\\desktop\\research and article writer agents\\venv\\lib\\site-packages (from chromadb<0.5.0,>=0.4.22->crewai_tools==0.1.6) (3.10.15)\n",
      "Requirement already satisfied: colorama in c:\\users\\wwwdo\\desktop\\research and article writer agents\\venv\\lib\\site-packages (from click<9.0.0,>=8.1.7->crewai==0.28.8) (0.4.6)\n",
      "Requirement already satisfied: marshmallow<4.0.0,>=3.18.0 in c:\\users\\wwwdo\\desktop\\research and article writer agents\\venv\\lib\\site-packages (from dataclasses-json<0.7,>=0.5.7->langchain_community==0.0.29) (3.26.0)\n",
      "Requirement already satisfied: typing-inspect<1,>=0.4.0 in c:\\users\\wwwdo\\desktop\\research and article writer agents\\venv\\lib\\site-packages (from dataclasses-json<0.7,>=0.5.7->langchain_community==0.0.29) (0.9.0)\n",
      "Requirement already satisfied: alembic<2.0.0,>=1.13.1 in c:\\users\\wwwdo\\desktop\\research and article writer agents\\venv\\lib\\site-packages (from embedchain<0.2.0,>=0.1.98->crewai==0.28.8) (1.14.1)\n",
      "Requirement already satisfied: clarifai<11.0.0,>=10.0.1 in c:\\users\\wwwdo\\desktop\\research and article writer agents\\venv\\lib\\site-packages (from embedchain<0.2.0,>=0.1.98->crewai==0.28.8) (10.11.1)\n",
      "Requirement already satisfied: google-cloud-aiplatform<2.0.0,>=1.26.1 in c:\\users\\wwwdo\\desktop\\research and article writer agents\\venv\\lib\\site-packages (from embedchain<0.2.0,>=0.1.98->crewai==0.28.8) (1.78.0)\n",
      "Requirement already satisfied: gptcache<0.2.0,>=0.1.43 in c:\\users\\wwwdo\\desktop\\research and article writer agents\\venv\\lib\\site-packages (from embedchain<0.2.0,>=0.1.98->crewai==0.28.8) (0.1.44)\n",
      "Requirement already satisfied: langchain-cohere<0.2.0,>=0.1.4 in c:\\users\\wwwdo\\desktop\\research and article writer agents\\venv\\lib\\site-packages (from embedchain<0.2.0,>=0.1.98->crewai==0.28.8) (0.1.5)\n",
      "Requirement already satisfied: langchain-openai<0.2.0,>=0.1.7 in c:\\users\\wwwdo\\desktop\\research and article writer agents\\venv\\lib\\site-packages (from embedchain<0.2.0,>=0.1.98->crewai==0.28.8) (0.1.7)\n",
      "Requirement already satisfied: pypdf<5.0.0,>=4.0.1 in c:\\users\\wwwdo\\desktop\\research and article writer agents\\venv\\lib\\site-packages (from embedchain<0.2.0,>=0.1.98->crewai==0.28.8) (4.3.1)\n",
      "Requirement already satisfied: pysbd<0.4.0,>=0.3.4 in c:\\users\\wwwdo\\desktop\\research and article writer agents\\venv\\lib\\site-packages (from embedchain<0.2.0,>=0.1.98->crewai==0.28.8) (0.3.4)\n",
      "Requirement already satisfied: rich<14.0.0,>=13.7.0 in c:\\users\\wwwdo\\desktop\\research and article writer agents\\venv\\lib\\site-packages (from embedchain<0.2.0,>=0.1.98->crewai==0.28.8) (13.9.4)\n",
      "Requirement already satisfied: schema<0.8.0,>=0.7.5 in c:\\users\\wwwdo\\desktop\\research and article writer agents\\venv\\lib\\site-packages (from embedchain<0.2.0,>=0.1.98->crewai==0.28.8) (0.7.5)\n",
      "Requirement already satisfied: tiktoken<0.8.0,>=0.7.0 in c:\\users\\wwwdo\\desktop\\research and article writer agents\\venv\\lib\\site-packages (from embedchain<0.2.0,>=0.1.98->crewai==0.28.8) (0.7.0)\n",
      "Requirement already satisfied: PyGithub<2.0.0,>=1.59.1 in c:\\users\\wwwdo\\desktop\\research and article writer agents\\venv\\lib\\site-packages (from embedchain[github,youtube]<0.2.0,>=0.1.85->crewai_tools==0.1.6) (1.59.1)\n",
      "Requirement already satisfied: gitpython<4.0.0,>=3.1.38 in c:\\users\\wwwdo\\desktop\\research and article writer agents\\venv\\lib\\site-packages (from embedchain[github,youtube]<0.2.0,>=0.1.85->crewai_tools==0.1.6) (3.1.44)\n",
      "Requirement already satisfied: youtube-transcript-api<0.7.0,>=0.6.1 in c:\\users\\wwwdo\\desktop\\research and article writer agents\\venv\\lib\\site-packages (from embedchain[github,youtube]<0.2.0,>=0.1.85->crewai_tools==0.1.6) (0.6.3)\n",
      "Requirement already satisfied: yt_dlp<2024.0.0,>=2023.11.14 in c:\\users\\wwwdo\\desktop\\research and article writer agents\\venv\\lib\\site-packages (from embedchain[github,youtube]<0.2.0,>=0.1.85->crewai_tools==0.1.6) (2023.12.30)\n",
      "Requirement already satisfied: docstring-parser<0.16,>=0.15 in c:\\users\\wwwdo\\desktop\\research and article writer agents\\venv\\lib\\site-packages (from instructor<0.6.0,>=0.5.2->crewai==0.28.8) (0.15)\n",
      "Requirement already satisfied: deprecation in c:\\users\\wwwdo\\desktop\\research and article writer agents\\venv\\lib\\site-packages (from lancedb<0.6.0,>=0.5.4->crewai_tools==0.1.6) (2.1.0)\n",
      "Requirement already satisfied: pylance==0.9.18 in c:\\users\\wwwdo\\desktop\\research and article writer agents\\venv\\lib\\site-packages (from lancedb<0.6.0,>=0.5.4->crewai_tools==0.1.6) (0.9.18)\n",
      "Requirement already satisfied: ratelimiter~=1.0 in c:\\users\\wwwdo\\desktop\\research and article writer agents\\venv\\lib\\site-packages (from lancedb<0.6.0,>=0.5.4->crewai_tools==0.1.6) (1.2.0.post0)\n",
      "Requirement already satisfied: retry>=0.9.2 in c:\\users\\wwwdo\\desktop\\research and article writer agents\\venv\\lib\\site-packages (from lancedb<0.6.0,>=0.5.4->crewai_tools==0.1.6) (0.9.2)\n",
      "Requirement already satisfied: semver>=3.0 in c:\\users\\wwwdo\\desktop\\research and article writer agents\\venv\\lib\\site-packages (from lancedb<0.6.0,>=0.5.4->crewai_tools==0.1.6) (3.0.4)\n",
      "Requirement already satisfied: cachetools in c:\\users\\wwwdo\\desktop\\research and article writer agents\\venv\\lib\\site-packages (from lancedb<0.6.0,>=0.5.4->crewai_tools==0.1.6) (5.5.1)\n",
      "Requirement already satisfied: pyarrow>=12 in c:\\users\\wwwdo\\desktop\\research and article writer agents\\venv\\lib\\site-packages (from pylance==0.9.18->lancedb<0.6.0,>=0.5.4->crewai_tools==0.1.6) (19.0.0)\n",
      "Requirement already satisfied: jsonpatch<2.0,>=1.33 in c:\\users\\wwwdo\\desktop\\research and article writer agents\\venv\\lib\\site-packages (from langchain<0.2.0,>=0.1.10->crewai==0.28.8) (1.33)\n",
      "Requirement already satisfied: langchain-text-splitters<0.1,>=0.0.1 in c:\\users\\wwwdo\\desktop\\research and article writer agents\\venv\\lib\\site-packages (from langchain<0.2.0,>=0.1.10->crewai==0.28.8) (0.0.2)\n",
      "Requirement already satisfied: packaging<24.0,>=23.2 in c:\\users\\wwwdo\\desktop\\research and article writer agents\\venv\\lib\\site-packages (from langchain-core<0.2.0,>=0.1.33->langchain_community==0.0.29) (23.2)\n",
      "Requirement already satisfied: httpx<1,>=0.23.0 in c:\\users\\wwwdo\\desktop\\research and article writer agents\\venv\\lib\\site-packages (from langsmith<0.2.0,>=0.1.0->langchain_community==0.0.29) (0.28.1)\n",
      "Requirement already satisfied: requests-toolbelt<2.0.0,>=1.0.0 in c:\\users\\wwwdo\\desktop\\research and article writer agents\\venv\\lib\\site-packages (from langsmith<0.2.0,>=0.1.0->langchain_community==0.0.29) (1.0.0)\n",
      "Requirement already satisfied: anyio<5,>=3.5.0 in c:\\users\\wwwdo\\desktop\\research and article writer agents\\venv\\lib\\site-packages (from openai<2.0.0,>=1.13.3->crewai==0.28.8) (4.8.0)\n",
      "Requirement already satisfied: distro<2,>=1.7.0 in c:\\users\\wwwdo\\desktop\\research and article writer agents\\venv\\lib\\site-packages (from openai<2.0.0,>=1.13.3->crewai==0.28.8) (1.9.0)\n",
      "Requirement already satisfied: jiter<1,>=0.4.0 in c:\\users\\wwwdo\\desktop\\research and article writer agents\\venv\\lib\\site-packages (from openai<2.0.0,>=1.13.3->crewai==0.28.8) (0.8.2)\n",
      "Requirement already satisfied: sniffio in c:\\users\\wwwdo\\desktop\\research and article writer agents\\venv\\lib\\site-packages (from openai<2.0.0,>=1.13.3->crewai==0.28.8) (1.3.1)\n",
      "Requirement already satisfied: deprecated>=1.2.6 in c:\\users\\wwwdo\\desktop\\research and article writer agents\\venv\\lib\\site-packages (from opentelemetry-api<2.0.0,>=1.22.0->crewai==0.28.8) (1.2.18)\n",
      "Requirement already satisfied: importlib-metadata<=8.5.0,>=6.0 in c:\\users\\wwwdo\\desktop\\research and article writer agents\\venv\\lib\\site-packages (from opentelemetry-api<2.0.0,>=1.22.0->crewai==0.28.8) (8.5.0)\n",
      "Requirement already satisfied: googleapis-common-protos~=1.52 in c:\\users\\wwwdo\\desktop\\research and article writer agents\\venv\\lib\\site-packages (from opentelemetry-exporter-otlp-proto-http<2.0.0,>=1.22.0->crewai==0.28.8) (1.66.0)\n",
      "Requirement already satisfied: opentelemetry-exporter-otlp-proto-common==1.29.0 in c:\\users\\wwwdo\\desktop\\research and article writer agents\\venv\\lib\\site-packages (from opentelemetry-exporter-otlp-proto-http<2.0.0,>=1.22.0->crewai==0.28.8) (1.29.0)\n",
      "Requirement already satisfied: opentelemetry-proto==1.29.0 in c:\\users\\wwwdo\\desktop\\research and article writer agents\\venv\\lib\\site-packages (from opentelemetry-exporter-otlp-proto-http<2.0.0,>=1.22.0->crewai==0.28.8) (1.29.0)\n",
      "Requirement already satisfied: protobuf<6.0,>=5.0 in c:\\users\\wwwdo\\desktop\\research and article writer agents\\venv\\lib\\site-packages (from opentelemetry-proto==1.29.0->opentelemetry-exporter-otlp-proto-http<2.0.0,>=1.22.0->crewai==0.28.8) (5.29.3)\n",
      "Requirement already satisfied: opentelemetry-semantic-conventions==0.50b0 in c:\\users\\wwwdo\\desktop\\research and article writer agents\\venv\\lib\\site-packages (from opentelemetry-sdk<2.0.0,>=1.22.0->crewai==0.28.8) (0.50b0)\n",
      "Requirement already satisfied: annotated-types>=0.6.0 in c:\\users\\wwwdo\\desktop\\research and article writer agents\\venv\\lib\\site-packages (from pydantic<3.0.0,>=2.4.2->crewai==0.28.8) (0.7.0)\n",
      "Requirement already satisfied: pydantic-core==2.27.2 in c:\\users\\wwwdo\\desktop\\research and article writer agents\\venv\\lib\\site-packages (from pydantic<3.0.0,>=2.4.2->crewai==0.28.8) (2.27.2)\n",
      "Requirement already satisfied: nodeenv>=1.6.0 in c:\\users\\wwwdo\\desktop\\research and article writer agents\\venv\\lib\\site-packages (from pyright<2.0.0,>=1.1.350->crewai_tools==0.1.6) (1.9.1)\n",
      "Requirement already satisfied: iniconfig in c:\\users\\wwwdo\\desktop\\research and article writer agents\\venv\\lib\\site-packages (from pytest<9.0.0,>=8.0.0->crewai_tools==0.1.6) (2.0.0)\n",
      "Requirement already satisfied: pluggy<2,>=1.5 in c:\\users\\wwwdo\\desktop\\research and article writer agents\\venv\\lib\\site-packages (from pytest<9.0.0,>=8.0.0->crewai_tools==0.1.6) (1.5.0)\n",
      "Requirement already satisfied: charset-normalizer<4,>=2 in c:\\users\\wwwdo\\desktop\\research and article writer agents\\venv\\lib\\site-packages (from requests<3.0.0,>=2.31.0->crewai_tools==0.1.6) (3.4.1)\n",
      "Requirement already satisfied: idna<4,>=2.5 in c:\\users\\wwwdo\\desktop\\research and article writer agents\\venv\\lib\\site-packages (from requests<3.0.0,>=2.31.0->crewai_tools==0.1.6) (3.10)\n",
      "Requirement already satisfied: urllib3<3,>=1.21.1 in c:\\users\\wwwdo\\desktop\\research and article writer agents\\venv\\lib\\site-packages (from requests<3.0.0,>=2.31.0->crewai_tools==0.1.6) (2.3.0)\n",
      "Requirement already satisfied: certifi>=2017.4.17 in c:\\users\\wwwdo\\desktop\\research and article writer agents\\venv\\lib\\site-packages (from requests<3.0.0,>=2.31.0->crewai_tools==0.1.6) (2024.12.14)\n",
      "Requirement already satisfied: trio~=0.17 in c:\\users\\wwwdo\\desktop\\research and article writer agents\\venv\\lib\\site-packages (from selenium<5.0.0,>=4.18.1->crewai_tools==0.1.6) (0.28.0)\n",
      "Requirement already satisfied: trio-websocket~=0.9 in c:\\users\\wwwdo\\desktop\\research and article writer agents\\venv\\lib\\site-packages (from selenium<5.0.0,>=4.18.1->crewai_tools==0.1.6) (0.11.1)\n",
      "Requirement already satisfied: websocket-client~=1.8 in c:\\users\\wwwdo\\desktop\\research and article writer agents\\venv\\lib\\site-packages (from selenium<5.0.0,>=4.18.1->crewai_tools==0.1.6) (1.8.0)\n",
      "Requirement already satisfied: greenlet!=0.4.17 in c:\\users\\wwwdo\\desktop\\research and article writer agents\\venv\\lib\\site-packages (from SQLAlchemy<3,>=1.4->langchain_community==0.0.29) (3.1.1)\n",
      "Requirement already satisfied: Mako in c:\\users\\wwwdo\\desktop\\research and article writer agents\\venv\\lib\\site-packages (from alembic<2.0.0,>=1.13.1->embedchain<0.2.0,>=0.1.98->crewai==0.28.8) (1.3.8)\n",
      "Requirement already satisfied: pyproject_hooks in c:\\users\\wwwdo\\desktop\\research and article writer agents\\venv\\lib\\site-packages (from build>=1.0.3->chromadb<0.5.0,>=0.4.22->crewai_tools==0.1.6) (1.2.0)\n",
      "Requirement already satisfied: clarifai-grpc>=10.11.2 in c:\\users\\wwwdo\\desktop\\research and article writer agents\\venv\\lib\\site-packages (from clarifai<11.0.0,>=10.0.1->embedchain<0.2.0,>=0.1.98->crewai==0.28.8) (11.0.6)\n",
      "Requirement already satisfied: clarifai-protocol>=0.0.14 in c:\\users\\wwwdo\\desktop\\research and article writer agents\\venv\\lib\\site-packages (from clarifai<11.0.0,>=10.0.1->embedchain<0.2.0,>=0.1.98->crewai==0.28.8) (0.0.14)\n",
      "Requirement already satisfied: tritonclient>=2.34.0 in c:\\users\\wwwdo\\desktop\\research and article writer agents\\venv\\lib\\site-packages (from clarifai<11.0.0,>=10.0.1->embedchain<0.2.0,>=0.1.98->crewai==0.28.8) (2.53.0)\n",
      "Requirement already satisfied: Pillow>=9.5.0 in c:\\users\\wwwdo\\desktop\\research and article writer agents\\venv\\lib\\site-packages (from clarifai<11.0.0,>=10.0.1->embedchain<0.2.0,>=0.1.98->crewai==0.28.8) (11.1.0)\n",
      "Requirement already satisfied: inquirerpy==0.3.4 in c:\\users\\wwwdo\\desktop\\research and article writer agents\\venv\\lib\\site-packages (from clarifai<11.0.0,>=10.0.1->embedchain<0.2.0,>=0.1.98->crewai==0.28.8) (0.3.4)\n",
      "Requirement already satisfied: tabulate>=0.9.0 in c:\\users\\wwwdo\\desktop\\research and article writer agents\\venv\\lib\\site-packages (from clarifai<11.0.0,>=10.0.1->embedchain<0.2.0,>=0.1.98->crewai==0.28.8) (0.9.0)\n",
      "Requirement already satisfied: fsspec==2024.6.1 in c:\\users\\wwwdo\\desktop\\research and article writer agents\\venv\\lib\\site-packages (from clarifai<11.0.0,>=10.0.1->embedchain<0.2.0,>=0.1.98->crewai==0.28.8) (2024.6.1)\n",
      "Requirement already satisfied: contextlib2>=0.5.5 in c:\\users\\wwwdo\\desktop\\research and article writer agents\\venv\\lib\\site-packages (from schema<0.8.0,>=0.7.5->embedchain<0.2.0,>=0.1.98->crewai==0.28.8) (21.6.0)\n",
      "Requirement already satisfied: pfzy<0.4.0,>=0.3.1 in c:\\users\\wwwdo\\desktop\\research and article writer agents\\venv\\lib\\site-packages (from inquirerpy==0.3.4->clarifai<11.0.0,>=10.0.1->embedchain<0.2.0,>=0.1.98->crewai==0.28.8) (0.3.4)\n",
      "Requirement already satisfied: prompt-toolkit<4.0.0,>=3.0.1 in c:\\users\\wwwdo\\desktop\\research and article writer agents\\venv\\lib\\site-packages (from inquirerpy==0.3.4->clarifai<11.0.0,>=10.0.1->embedchain<0.2.0,>=0.1.98->crewai==0.28.8) (3.0.50)\n",
      "Requirement already satisfied: wrapt<2,>=1.10 in c:\\users\\wwwdo\\desktop\\research and article writer agents\\venv\\lib\\site-packages (from deprecated>=1.2.6->opentelemetry-api<2.0.0,>=1.22.0->crewai==0.28.8) (1.17.2)\n",
      "Requirement already satisfied: starlette<0.46.0,>=0.40.0 in c:\\users\\wwwdo\\desktop\\research and article writer agents\\venv\\lib\\site-packages (from fastapi>=0.95.2->chromadb<0.5.0,>=0.4.22->crewai_tools==0.1.6) (0.45.3)\n",
      "Requirement already satisfied: gitdb<5,>=4.0.1 in c:\\users\\wwwdo\\desktop\\research and article writer agents\\venv\\lib\\site-packages (from gitpython<4.0.0,>=3.1.38->embedchain[github,youtube]<0.2.0,>=0.1.85->crewai_tools==0.1.6) (4.0.12)\n",
      "Requirement already satisfied: google-api-core!=2.0.*,!=2.1.*,!=2.2.*,!=2.3.*,!=2.4.*,!=2.5.*,!=2.6.*,!=2.7.*,<3.0.0dev,>=1.34.1 in c:\\users\\wwwdo\\desktop\\research and article writer agents\\venv\\lib\\site-packages (from google-api-core[grpc]!=2.0.*,!=2.1.*,!=2.2.*,!=2.3.*,!=2.4.*,!=2.5.*,!=2.6.*,!=2.7.*,<3.0.0dev,>=1.34.1->google-cloud-aiplatform<2.0.0,>=1.26.1->embedchain<0.2.0,>=0.1.98->crewai==0.28.8) (2.24.1)\n",
      "Requirement already satisfied: google-auth<3.0.0dev,>=2.14.1 in c:\\users\\wwwdo\\desktop\\research and article writer agents\\venv\\lib\\site-packages (from google-cloud-aiplatform<2.0.0,>=1.26.1->embedchain<0.2.0,>=0.1.98->crewai==0.28.8) (2.38.0)\n",
      "Requirement already satisfied: proto-plus<2.0.0dev,>=1.22.3 in c:\\users\\wwwdo\\desktop\\research and article writer agents\\venv\\lib\\site-packages (from google-cloud-aiplatform<2.0.0,>=1.26.1->embedchain<0.2.0,>=0.1.98->crewai==0.28.8) (1.26.0)\n",
      "Requirement already satisfied: google-cloud-storage<3.0.0dev,>=1.32.0 in c:\\users\\wwwdo\\desktop\\research and article writer agents\\venv\\lib\\site-packages (from google-cloud-aiplatform<2.0.0,>=1.26.1->embedchain<0.2.0,>=0.1.98->crewai==0.28.8) (2.19.0)\n",
      "Requirement already satisfied: google-cloud-bigquery!=3.20.0,<4.0.0dev,>=1.15.0 in c:\\users\\wwwdo\\desktop\\research and article writer agents\\venv\\lib\\site-packages (from google-cloud-aiplatform<2.0.0,>=1.26.1->embedchain<0.2.0,>=0.1.98->crewai==0.28.8) (3.29.0)\n",
      "Requirement already satisfied: google-cloud-resource-manager<3.0.0dev,>=1.3.3 in c:\\users\\wwwdo\\desktop\\research and article writer agents\\venv\\lib\\site-packages (from google-cloud-aiplatform<2.0.0,>=1.26.1->embedchain<0.2.0,>=0.1.98->crewai==0.28.8) (1.14.0)\n",
      "Requirement already satisfied: shapely<3.0.0dev in c:\\users\\wwwdo\\desktop\\research and article writer agents\\venv\\lib\\site-packages (from google-cloud-aiplatform<2.0.0,>=1.26.1->embedchain<0.2.0,>=0.1.98->crewai==0.28.8) (2.0.6)\n",
      "Requirement already satisfied: httpcore==1.* in c:\\users\\wwwdo\\desktop\\research and article writer agents\\venv\\lib\\site-packages (from httpx<1,>=0.23.0->langsmith<0.2.0,>=0.1.0->langchain_community==0.0.29) (1.0.7)\n",
      "Requirement already satisfied: h11<0.15,>=0.13 in c:\\users\\wwwdo\\desktop\\research and article writer agents\\venv\\lib\\site-packages (from httpcore==1.*->httpx<1,>=0.23.0->langsmith<0.2.0,>=0.1.0->langchain_community==0.0.29) (0.14.0)\n",
      "Requirement already satisfied: zipp>=3.20 in c:\\users\\wwwdo\\desktop\\research and article writer agents\\venv\\lib\\site-packages (from importlib-metadata<=8.5.0,>=6.0->opentelemetry-api<2.0.0,>=1.22.0->crewai==0.28.8) (3.21.0)\n",
      "Requirement already satisfied: jsonpointer>=1.9 in c:\\users\\wwwdo\\desktop\\research and article writer agents\\venv\\lib\\site-packages (from jsonpatch<2.0,>=1.33->langchain<0.2.0,>=0.1.10->crewai==0.28.8) (3.0.0)\n",
      "Requirement already satisfied: six>=1.9.0 in c:\\users\\wwwdo\\desktop\\research and article writer agents\\venv\\lib\\site-packages (from kubernetes>=28.1.0->chromadb<0.5.0,>=0.4.22->crewai_tools==0.1.6) (1.17.0)\n",
      "Requirement already satisfied: python-dateutil>=2.5.3 in c:\\users\\wwwdo\\desktop\\research and article writer agents\\venv\\lib\\site-packages (from kubernetes>=28.1.0->chromadb<0.5.0,>=0.4.22->crewai_tools==0.1.6) (2.9.0.post0)\n",
      "Requirement already satisfied: requests-oauthlib in c:\\users\\wwwdo\\desktop\\research and article writer agents\\venv\\lib\\site-packages (from kubernetes>=28.1.0->chromadb<0.5.0,>=0.4.22->crewai_tools==0.1.6) (2.0.0)\n",
      "Requirement already satisfied: oauthlib>=3.2.2 in c:\\users\\wwwdo\\desktop\\research and article writer agents\\venv\\lib\\site-packages (from kubernetes>=28.1.0->chromadb<0.5.0,>=0.4.22->crewai_tools==0.1.6) (3.2.2)\n",
      "Requirement already satisfied: durationpy>=0.7 in c:\\users\\wwwdo\\desktop\\research and article writer agents\\venv\\lib\\site-packages (from kubernetes>=28.1.0->chromadb<0.5.0,>=0.4.22->crewai_tools==0.1.6) (0.9)\n",
      "Requirement already satisfied: cohere<6.0,>=5.5 in c:\\users\\wwwdo\\desktop\\research and article writer agents\\venv\\lib\\site-packages (from langchain-cohere<0.2.0,>=0.1.4->embedchain<0.2.0,>=0.1.98->crewai==0.28.8) (5.13.11)\n",
      "Requirement already satisfied: coloredlogs in c:\\users\\wwwdo\\desktop\\research and article writer agents\\venv\\lib\\site-packages (from onnxruntime>=1.14.1->chromadb<0.5.0,>=0.4.22->crewai_tools==0.1.6) (15.0.1)\n",
      "Requirement already satisfied: flatbuffers in c:\\users\\wwwdo\\desktop\\research and article writer agents\\venv\\lib\\site-packages (from onnxruntime>=1.14.1->chromadb<0.5.0,>=0.4.22->crewai_tools==0.1.6) (25.1.24)\n",
      "Requirement already satisfied: sympy in c:\\users\\wwwdo\\desktop\\research and article writer agents\\venv\\lib\\site-packages (from onnxruntime>=1.14.1->chromadb<0.5.0,>=0.4.22->crewai_tools==0.1.6) (1.13.3)\n",
      "Requirement already satisfied: opentelemetry-instrumentation-asgi==0.50b0 in c:\\users\\wwwdo\\desktop\\research and article writer agents\\venv\\lib\\site-packages (from opentelemetry-instrumentation-fastapi>=0.41b0->chromadb<0.5.0,>=0.4.22->crewai_tools==0.1.6) (0.50b0)\n",
      "Requirement already satisfied: opentelemetry-instrumentation==0.50b0 in c:\\users\\wwwdo\\desktop\\research and article writer agents\\venv\\lib\\site-packages (from opentelemetry-instrumentation-fastapi>=0.41b0->chromadb<0.5.0,>=0.4.22->crewai_tools==0.1.6) (0.50b0)\n",
      "Requirement already satisfied: opentelemetry-util-http==0.50b0 in c:\\users\\wwwdo\\desktop\\research and article writer agents\\venv\\lib\\site-packages (from opentelemetry-instrumentation-fastapi>=0.41b0->chromadb<0.5.0,>=0.4.22->crewai_tools==0.1.6) (0.50b0)\n",
      "Requirement already satisfied: asgiref~=3.0 in c:\\users\\wwwdo\\desktop\\research and article writer agents\\venv\\lib\\site-packages (from opentelemetry-instrumentation-asgi==0.50b0->opentelemetry-instrumentation-fastapi>=0.41b0->chromadb<0.5.0,>=0.4.22->crewai_tools==0.1.6) (3.8.1)\n",
      "Requirement already satisfied: monotonic>=1.5 in c:\\users\\wwwdo\\desktop\\research and article writer agents\\venv\\lib\\site-packages (from posthog>=2.4.0->chromadb<0.5.0,>=0.4.22->crewai_tools==0.1.6) (1.6)\n",
      "Requirement already satisfied: backoff>=1.10.0 in c:\\users\\wwwdo\\desktop\\research and article writer agents\\venv\\lib\\site-packages (from posthog>=2.4.0->chromadb<0.5.0,>=0.4.22->crewai_tools==0.1.6) (2.2.1)\n",
      "Requirement already satisfied: pyjwt>=2.4.0 in c:\\users\\wwwdo\\desktop\\research and article writer agents\\venv\\lib\\site-packages (from pyjwt[crypto]>=2.4.0->PyGithub<2.0.0,>=1.59.1->embedchain[github,youtube]<0.2.0,>=0.1.85->crewai_tools==0.1.6) (2.10.1)\n",
      "Requirement already satisfied: pynacl>=1.4.0 in c:\\users\\wwwdo\\desktop\\research and article writer agents\\venv\\lib\\site-packages (from PyGithub<2.0.0,>=1.59.1->embedchain[github,youtube]<0.2.0,>=0.1.85->crewai_tools==0.1.6) (1.5.0)\n",
      "Requirement already satisfied: decorator>=3.4.2 in c:\\users\\wwwdo\\desktop\\research and article writer agents\\venv\\lib\\site-packages (from retry>=0.9.2->lancedb<0.6.0,>=0.5.4->crewai_tools==0.1.6) (5.1.1)\n",
      "Requirement already satisfied: py<2.0.0,>=1.4.26 in c:\\users\\wwwdo\\desktop\\research and article writer agents\\venv\\lib\\site-packages (from retry>=0.9.2->lancedb<0.6.0,>=0.5.4->crewai_tools==0.1.6) (1.11.0)\n",
      "Requirement already satisfied: markdown-it-py>=2.2.0 in c:\\users\\wwwdo\\desktop\\research and article writer agents\\venv\\lib\\site-packages (from rich<14.0.0,>=13.7.0->embedchain<0.2.0,>=0.1.98->crewai==0.28.8) (3.0.0)\n",
      "Requirement already satisfied: pygments<3.0.0,>=2.13.0 in c:\\users\\wwwdo\\desktop\\research and article writer agents\\venv\\lib\\site-packages (from rich<14.0.0,>=13.7.0->embedchain<0.2.0,>=0.1.98->crewai==0.28.8) (2.19.1)\n",
      "Requirement already satisfied: huggingface-hub<1.0,>=0.16.4 in c:\\users\\wwwdo\\desktop\\research and article writer agents\\venv\\lib\\site-packages (from tokenizers>=0.13.2->chromadb<0.5.0,>=0.4.22->crewai_tools==0.1.6) (0.28.0)\n",
      "Requirement already satisfied: sortedcontainers in c:\\users\\wwwdo\\desktop\\research and article writer agents\\venv\\lib\\site-packages (from trio~=0.17->selenium<5.0.0,>=4.18.1->crewai_tools==0.1.6) (2.4.0)\n",
      "Requirement already satisfied: outcome in c:\\users\\wwwdo\\desktop\\research and article writer agents\\venv\\lib\\site-packages (from trio~=0.17->selenium<5.0.0,>=4.18.1->crewai_tools==0.1.6) (1.3.0.post0)\n",
      "Requirement already satisfied: cffi>=1.14 in c:\\users\\wwwdo\\desktop\\research and article writer agents\\venv\\lib\\site-packages (from trio~=0.17->selenium<5.0.0,>=4.18.1->crewai_tools==0.1.6) (1.17.1)\n",
      "Requirement already satisfied: wsproto>=0.14 in c:\\users\\wwwdo\\desktop\\research and article writer agents\\venv\\lib\\site-packages (from trio-websocket~=0.9->selenium<5.0.0,>=4.18.1->crewai_tools==0.1.6) (1.2.0)\n",
      "Requirement already satisfied: mypy-extensions>=0.3.0 in c:\\users\\wwwdo\\desktop\\research and article writer agents\\venv\\lib\\site-packages (from typing-inspect<1,>=0.4.0->dataclasses-json<0.7,>=0.5.7->langchain_community==0.0.29) (1.0.0)\n",
      "Requirement already satisfied: pysocks!=1.5.7,<2.0,>=1.5.6 in c:\\users\\wwwdo\\desktop\\research and article writer agents\\venv\\lib\\site-packages (from urllib3[socks]<3,>=1.26->selenium<5.0.0,>=4.18.1->crewai_tools==0.1.6) (1.7.1)\n",
      "Requirement already satisfied: httptools>=0.6.3 in c:\\users\\wwwdo\\desktop\\research and article writer agents\\venv\\lib\\site-packages (from uvicorn[standard]>=0.18.3->chromadb<0.5.0,>=0.4.22->crewai_tools==0.1.6) (0.6.4)\n",
      "Requirement already satisfied: watchfiles>=0.13 in c:\\users\\wwwdo\\desktop\\research and article writer agents\\venv\\lib\\site-packages (from uvicorn[standard]>=0.18.3->chromadb<0.5.0,>=0.4.22->crewai_tools==0.1.6) (1.0.4)\n",
      "Requirement already satisfied: websockets>=10.4 in c:\\users\\wwwdo\\desktop\\research and article writer agents\\venv\\lib\\site-packages (from uvicorn[standard]>=0.18.3->chromadb<0.5.0,>=0.4.22->crewai_tools==0.1.6) (14.2)\n",
      "Requirement already satisfied: defusedxml<0.8.0,>=0.7.1 in c:\\users\\wwwdo\\desktop\\research and article writer agents\\venv\\lib\\site-packages (from youtube-transcript-api<0.7.0,>=0.6.1->embedchain[github,youtube]<0.2.0,>=0.1.85->crewai_tools==0.1.6) (0.7.1)\n",
      "Requirement already satisfied: mutagen in c:\\users\\wwwdo\\desktop\\research and article writer agents\\venv\\lib\\site-packages (from yt_dlp<2024.0.0,>=2023.11.14->embedchain[github,youtube]<0.2.0,>=0.1.85->crewai_tools==0.1.6) (1.47.0)\n",
      "Requirement already satisfied: pycryptodomex in c:\\users\\wwwdo\\desktop\\research and article writer agents\\venv\\lib\\site-packages (from yt_dlp<2024.0.0,>=2023.11.14->embedchain[github,youtube]<0.2.0,>=0.1.85->crewai_tools==0.1.6) (3.21.0)\n",
      "Requirement already satisfied: brotli in c:\\users\\wwwdo\\desktop\\research and article writer agents\\venv\\lib\\site-packages (from yt_dlp<2024.0.0,>=2023.11.14->embedchain[github,youtube]<0.2.0,>=0.1.85->crewai_tools==0.1.6) (1.1.0)\n",
      "Requirement already satisfied: pycparser in c:\\users\\wwwdo\\desktop\\research and article writer agents\\venv\\lib\\site-packages (from cffi>=1.14->trio~=0.17->selenium<5.0.0,>=4.18.1->crewai_tools==0.1.6) (2.22)\n",
      "Requirement already satisfied: fastavro<2.0.0,>=1.9.4 in c:\\users\\wwwdo\\desktop\\research and article writer agents\\venv\\lib\\site-packages (from cohere<6.0,>=5.5->langchain-cohere<0.2.0,>=0.1.4->embedchain<0.2.0,>=0.1.98->crewai==0.28.8) (1.10.0)\n",
      "Requirement already satisfied: httpx-sse==0.4.0 in c:\\users\\wwwdo\\desktop\\research and article writer agents\\venv\\lib\\site-packages (from cohere<6.0,>=5.5->langchain-cohere<0.2.0,>=0.1.4->embedchain<0.2.0,>=0.1.98->crewai==0.28.8) (0.4.0)\n",
      "Requirement already satisfied: types-requests<3.0.0,>=2.0.0 in c:\\users\\wwwdo\\desktop\\research and article writer agents\\venv\\lib\\site-packages (from cohere<6.0,>=5.5->langchain-cohere<0.2.0,>=0.1.4->embedchain<0.2.0,>=0.1.98->crewai==0.28.8) (2.32.0.20241016)\n",
      "Requirement already satisfied: smmap<6,>=3.0.1 in c:\\users\\wwwdo\\desktop\\research and article writer agents\\venv\\lib\\site-packages (from gitdb<5,>=4.0.1->gitpython<4.0.0,>=3.1.38->embedchain[github,youtube]<0.2.0,>=0.1.85->crewai_tools==0.1.6) (5.0.2)\n",
      "Requirement already satisfied: grpcio-status<2.0.dev0,>=1.33.2 in c:\\users\\wwwdo\\desktop\\research and article writer agents\\venv\\lib\\site-packages (from google-api-core[grpc]!=2.0.*,!=2.1.*,!=2.2.*,!=2.3.*,!=2.4.*,!=2.5.*,!=2.6.*,!=2.7.*,<3.0.0dev,>=1.34.1->google-cloud-aiplatform<2.0.0,>=1.26.1->embedchain<0.2.0,>=0.1.98->crewai==0.28.8) (1.70.0)\n",
      "Requirement already satisfied: pyasn1-modules>=0.2.1 in c:\\users\\wwwdo\\desktop\\research and article writer agents\\venv\\lib\\site-packages (from google-auth<3.0.0dev,>=2.14.1->google-cloud-aiplatform<2.0.0,>=1.26.1->embedchain<0.2.0,>=0.1.98->crewai==0.28.8) (0.4.1)\n",
      "Requirement already satisfied: rsa<5,>=3.1.4 in c:\\users\\wwwdo\\desktop\\research and article writer agents\\venv\\lib\\site-packages (from google-auth<3.0.0dev,>=2.14.1->google-cloud-aiplatform<2.0.0,>=1.26.1->embedchain<0.2.0,>=0.1.98->crewai==0.28.8) (4.9)\n",
      "Requirement already satisfied: google-cloud-core<3.0.0dev,>=2.4.1 in c:\\users\\wwwdo\\desktop\\research and article writer agents\\venv\\lib\\site-packages (from google-cloud-bigquery!=3.20.0,<4.0.0dev,>=1.15.0->google-cloud-aiplatform<2.0.0,>=1.26.1->embedchain<0.2.0,>=0.1.98->crewai==0.28.8) (2.4.1)\n",
      "Requirement already satisfied: google-resumable-media<3.0dev,>=2.0.0 in c:\\users\\wwwdo\\desktop\\research and article writer agents\\venv\\lib\\site-packages (from google-cloud-bigquery!=3.20.0,<4.0.0dev,>=1.15.0->google-cloud-aiplatform<2.0.0,>=1.26.1->embedchain<0.2.0,>=0.1.98->crewai==0.28.8) (2.7.2)\n",
      "Requirement already satisfied: grpc-google-iam-v1<1.0.0dev,>=0.12.4 in c:\\users\\wwwdo\\desktop\\research and article writer agents\\venv\\lib\\site-packages (from google-cloud-resource-manager<3.0.0dev,>=1.3.3->google-cloud-aiplatform<2.0.0,>=1.26.1->embedchain<0.2.0,>=0.1.98->crewai==0.28.8) (0.14.0)\n",
      "Requirement already satisfied: google-crc32c<2.0dev,>=1.0 in c:\\users\\wwwdo\\desktop\\research and article writer agents\\venv\\lib\\site-packages (from google-cloud-storage<3.0.0dev,>=1.32.0->google-cloud-aiplatform<2.0.0,>=1.26.1->embedchain<0.2.0,>=0.1.98->crewai==0.28.8) (1.6.0)\n",
      "Requirement already satisfied: filelock in c:\\users\\wwwdo\\desktop\\research and article writer agents\\venv\\lib\\site-packages (from huggingface-hub<1.0,>=0.16.4->tokenizers>=0.13.2->chromadb<0.5.0,>=0.4.22->crewai_tools==0.1.6) (3.17.0)\n",
      "Requirement already satisfied: mdurl~=0.1 in c:\\users\\wwwdo\\desktop\\research and article writer agents\\venv\\lib\\site-packages (from markdown-it-py>=2.2.0->rich<14.0.0,>=13.7.0->embedchain<0.2.0,>=0.1.98->crewai==0.28.8) (0.1.2)\n",
      "Requirement already satisfied: cryptography>=3.4.0 in c:\\users\\wwwdo\\desktop\\research and article writer agents\\venv\\lib\\site-packages (from pyjwt[crypto]>=2.4.0->PyGithub<2.0.0,>=1.59.1->embedchain[github,youtube]<0.2.0,>=0.1.85->crewai_tools==0.1.6) (44.0.0)\n",
      "Requirement already satisfied: python-rapidjson>=0.9.1 in c:\\users\\wwwdo\\desktop\\research and article writer agents\\venv\\lib\\site-packages (from tritonclient>=2.34.0->clarifai<11.0.0,>=10.0.1->embedchain<0.2.0,>=0.1.98->crewai==0.28.8) (1.20)\n",
      "Requirement already satisfied: humanfriendly>=9.1 in c:\\users\\wwwdo\\desktop\\research and article writer agents\\venv\\lib\\site-packages (from coloredlogs->onnxruntime>=1.14.1->chromadb<0.5.0,>=0.4.22->crewai_tools==0.1.6) (10.0)\n",
      "Requirement already satisfied: MarkupSafe>=0.9.2 in c:\\users\\wwwdo\\desktop\\research and article writer agents\\venv\\lib\\site-packages (from Mako->alembic<2.0.0,>=1.13.1->embedchain<0.2.0,>=0.1.98->crewai==0.28.8) (3.0.2)\n",
      "Requirement already satisfied: mpmath<1.4,>=1.1.0 in c:\\users\\wwwdo\\desktop\\research and article writer agents\\venv\\lib\\site-packages (from sympy->onnxruntime>=1.14.1->chromadb<0.5.0,>=0.4.22->crewai_tools==0.1.6) (1.3.0)\n",
      "Requirement already satisfied: pyreadline3 in c:\\users\\wwwdo\\desktop\\research and article writer agents\\venv\\lib\\site-packages (from humanfriendly>=9.1->coloredlogs->onnxruntime>=1.14.1->chromadb<0.5.0,>=0.4.22->crewai_tools==0.1.6) (3.5.4)\n",
      "Requirement already satisfied: wcwidth in c:\\users\\wwwdo\\desktop\\research and article writer agents\\venv\\lib\\site-packages (from prompt-toolkit<4.0.0,>=3.0.1->inquirerpy==0.3.4->clarifai<11.0.0,>=10.0.1->embedchain<0.2.0,>=0.1.98->crewai==0.28.8) (0.2.13)\n",
      "Requirement already satisfied: pyasn1<0.7.0,>=0.4.6 in c:\\users\\wwwdo\\desktop\\research and article writer agents\\venv\\lib\\site-packages (from pyasn1-modules>=0.2.1->google-auth<3.0.0dev,>=2.14.1->google-cloud-aiplatform<2.0.0,>=1.26.1->embedchain<0.2.0,>=0.1.98->crewai==0.28.8) (0.6.1)\n"
     ]
    }
   ],
   "source": [
    "pip install crewai==0.28.8 crewai_tools==0.1.6 langchain_community==0.0.29"
   ]
  },
  {
   "cell_type": "code",
   "execution_count": 1,
   "metadata": {
    "height": 64
   },
   "outputs": [],
   "source": [
    "# Warning control\n",
    "import warnings\n",
    "warnings.filterwarnings('ignore')"
   ]
  },
  {
   "cell_type": "markdown",
   "metadata": {},
   "source": [
    "- Import from the crewAI libray."
   ]
  },
  {
   "cell_type": "code",
   "execution_count": 2,
   "metadata": {
    "height": 30
   },
   "outputs": [],
   "source": [
    "from crewai import Agent, Task, Crew"
   ]
  },
  {
   "cell_type": "markdown",
   "metadata": {},
   "source": [
    "- As a LLM for your agents, you'll be using OpenAI's `gpt-3.5-turbo`.\n",
    "\n",
    "**Optional Note:** crewAI also allow other popular models to be used as a LLM for your Agents. You can see some of the examples at the [bottom of the notebook](#1)."
   ]
  },
  {
   "cell_type": "code",
   "execution_count": 3,
   "metadata": {
    "height": 98
   },
   "outputs": [],
   "source": [
    "import os\n",
    "from utils import get_openai_api_key\n",
    "\n",
    "openai_api_key = get_openai_api_key()\n",
    "os.environ[\"OPENAI_MODEL_NAME\"] = 'gpt-3.5-turbo'"
   ]
  },
  {
   "cell_type": "markdown",
   "metadata": {},
   "source": [
    "## Creating Agents\n",
    "\n",
    "- Define your Agents, and provide them a `role`, `goal` and `backstory`.\n",
    "- It has been seen that LLMs perform better when they are role playing."
   ]
  },
  {
   "cell_type": "markdown",
   "metadata": {},
   "source": [
    "### Agent: Planner\n",
    "\n",
    "**Note**: The benefit of using _multiple strings_ :\n",
    "```Python\n",
    "varname = \"line 1 of text\"\n",
    "          \"line 2 of text\"\n",
    "```\n",
    "\n",
    "versus the _triple quote docstring_:\n",
    "```Python\n",
    "varname = \"\"\"line 1 of text\n",
    "             line 2 of text\n",
    "          \"\"\"\n",
    "```\n",
    "is that it can avoid adding those whitespaces and newline characters, making it better formatted to be passed to the LLM."
   ]
  },
  {
   "cell_type": "code",
   "execution_count": 6,
   "metadata": {
    "height": 234
   },
   "outputs": [],
   "source": [
    "planner = Agent(\n",
    "    role=\"Content Planner\",\n",
    "    goal=\"Plan engaging and factually accurate content on {topic}\",\n",
    "    backstory=\"You're working on planning a blog article \"\n",
    "              \"about the topic: {topic}.\"\n",
    "              \"You collect information that helps the \"\n",
    "              \"audience learn something \"\n",
    "              \"and make informed decisions. \"\n",
    "              \"Your work is the basis for \"\n",
    "              \"the Content Writer to write an article on this topic.\",\n",
    "    allow_delegation=False,\n",
    "\tverbose=True\n",
    ")"
   ]
  },
  {
   "cell_type": "markdown",
   "metadata": {},
   "source": [
    "### Agent: Writer"
   ]
  },
  {
   "cell_type": "code",
   "execution_count": 7,
   "metadata": {
    "height": 370
   },
   "outputs": [],
   "source": [
    "writer = Agent(\n",
    "    role=\"Content Writer\",\n",
    "    goal=\"Write insightful and factually accurate \"\n",
    "         \"opinion piece about the topic: {topic}\",\n",
    "    backstory=\"You're working on a writing \"\n",
    "              \"a new opinion piece about the topic: {topic}. \"\n",
    "              \"You base your writing on the work of \"\n",
    "              \"the Content Planner, who provides an outline \"\n",
    "              \"and relevant context about the topic. \"\n",
    "              \"You follow the main objectives and \"\n",
    "              \"direction of the outline, \"\n",
    "              \"as provide by the Content Planner. \"\n",
    "              \"You also provide objective and impartial insights \"\n",
    "              \"and back them up with information \"\n",
    "              \"provide by the Content Planner. \"\n",
    "              \"You acknowledge in your opinion piece \"\n",
    "              \"when your statements are opinions \"\n",
    "              \"as opposed to objective statements.\",\n",
    "    allow_delegation=False,\n",
    "    verbose=True\n",
    ")"
   ]
  },
  {
   "cell_type": "markdown",
   "metadata": {},
   "source": [
    "### Agent: Editor"
   ]
  },
  {
   "cell_type": "code",
   "execution_count": 8,
   "metadata": {
    "height": 268
   },
   "outputs": [],
   "source": [
    "editor = Agent(\n",
    "    role=\"Editor\",\n",
    "    goal=\"Edit a given blog post to align with \"\n",
    "         \"the writing style of the organization. \",\n",
    "    backstory=\"You are an editor who receives a blog post \"\n",
    "              \"from the Content Writer. \"\n",
    "              \"Your goal is to review the blog post \"\n",
    "              \"to ensure that it follows journalistic best practices,\"\n",
    "              \"provides balanced viewpoints \"\n",
    "              \"when providing opinions or assertions, \"\n",
    "              \"and also avoids major controversial topics \"\n",
    "              \"or opinions when possible.\",\n",
    "    allow_delegation=False,\n",
    "    verbose=True\n",
    ")"
   ]
  },
  {
   "cell_type": "markdown",
   "metadata": {},
   "source": [
    "## Creating Tasks\n",
    "\n",
    "- Define your Tasks, and provide them a `description`, `expected_output` and `agent`."
   ]
  },
  {
   "cell_type": "markdown",
   "metadata": {},
   "source": [
    "### Task: Plan"
   ]
  },
  {
   "cell_type": "code",
   "execution_count": 9,
   "metadata": {
    "height": 268
   },
   "outputs": [],
   "source": [
    "plan = Task(\n",
    "    description=(\n",
    "        \"1. Prioritize the latest trends, key players, \"\n",
    "            \"and noteworthy news on {topic}.\\n\"\n",
    "        \"2. Identify the target audience, considering \"\n",
    "            \"their interests and pain points.\\n\"\n",
    "        \"3. Develop a detailed content outline including \"\n",
    "            \"an introduction, key points, and a call to action.\\n\"\n",
    "        \"4. Include SEO keywords and relevant data or sources.\"\n",
    "    ),\n",
    "    expected_output=\"A comprehensive content plan document \"\n",
    "        \"with an outline, audience analysis, \"\n",
    "        \"SEO keywords, and resources.\",\n",
    "    agent=planner,\n",
    ")"
   ]
  },
  {
   "cell_type": "markdown",
   "metadata": {},
   "source": [
    "### Task: Write"
   ]
  },
  {
   "cell_type": "code",
   "execution_count": 10,
   "metadata": {
    "height": 319
   },
   "outputs": [],
   "source": [
    "write = Task(\n",
    "    description=(\n",
    "        \"1. Use the content plan to craft a compelling \"\n",
    "            \"blog post on {topic}.\\n\"\n",
    "        \"2. Incorporate SEO keywords naturally.\\n\"\n",
    "\t\t\"3. Sections/Subtitles are properly named \"\n",
    "            \"in an engaging manner.\\n\"\n",
    "        \"4. Ensure the post is structured with an \"\n",
    "            \"engaging introduction, insightful body, \"\n",
    "            \"and a summarizing conclusion.\\n\"\n",
    "        \"5. Proofread for grammatical errors and \"\n",
    "            \"alignment with the brand's voice.\\n\"\n",
    "    ),\n",
    "    expected_output=\"A well-written blog post \"\n",
    "        \"in markdown format, ready for publication, \"\n",
    "        \"each section should have 2 or 3 paragraphs.\",\n",
    "    agent=writer,\n",
    ")"
   ]
  },
  {
   "cell_type": "markdown",
   "metadata": {},
   "source": [
    "### Task: Edit"
   ]
  },
  {
   "cell_type": "code",
   "execution_count": 11,
   "metadata": {
    "height": 166
   },
   "outputs": [],
   "source": [
    "edit = Task(\n",
    "    description=(\"Proofread the given blog post for \"\n",
    "                 \"grammatical errors and \"\n",
    "                 \"alignment with the brand's voice.\"),\n",
    "    expected_output=\"A well-written blog post in markdown format, \"\n",
    "                    \"ready for publication, \"\n",
    "                    \"each section should have 2 or 3 paragraphs.\",\n",
    "    agent=editor\n",
    ")"
   ]
  },
  {
   "cell_type": "markdown",
   "metadata": {},
   "source": [
    "## Creating the Crew\n",
    "\n",
    "- Create your crew of Agents\n",
    "- Pass the tasks to be performed by those agents.\n",
    "    - **Note**: *For this simple example*, the tasks will be performed sequentially (i.e they are dependent on each other), so the _order_ of the task in the list _matters_.\n",
    "- `verbose=2` allows you to see all the logs of the execution. "
   ]
  },
  {
   "cell_type": "code",
   "execution_count": 12,
   "metadata": {
    "height": 98
   },
   "outputs": [],
   "source": [
    "crew = Crew(\n",
    "    agents=[planner, writer, editor],\n",
    "    tasks=[plan, write, edit],\n",
    "    verbose=2\n",
    ")"
   ]
  },
  {
   "cell_type": "markdown",
   "metadata": {},
   "source": [
    "## Running the Crew"
   ]
  },
  {
   "cell_type": "markdown",
   "metadata": {},
   "source": [
    "**Note**: LLMs can provide different outputs for they same input, so what you get might be different than what you see in the video."
   ]
  },
  {
   "cell_type": "code",
   "execution_count": 15,
   "metadata": {
    "height": 30
   },
   "outputs": [
    {
     "name": "stdout",
     "output_type": "stream",
     "text": [
      "\u001b[1m\u001b[95m [DEBUG]: == Working Agent: Content Planner\u001b[00m\n",
      "\u001b[1m\u001b[95m [INFO]: == Starting Task: 1. Prioritize the latest trends, key players, and noteworthy news on Artificial Intelligence and quantum Computing.\n",
      "2. Identify the target audience, considering their interests and pain points.\n",
      "3. Develop a detailed content outline including an introduction, key points, and a call to action.\n",
      "4. Include SEO keywords and relevant data or sources.\u001b[00m\n",
      "\n",
      "\n",
      "\u001b[1m> Entering new CrewAgentExecutor chain...\u001b[0m\n",
      "\u001b[32;1m\u001b[1;3mI now can give a great answer\n",
      "\n",
      "Final Answer: \n",
      "\n",
      "Title: Exploring the Intersection of Artificial Intelligence and Quantum Computing\n",
      "\n",
      "Outline:\n",
      "I. Introduction\n",
      "- Definition of Artificial Intelligence and Quantum Computing\n",
      "- Importance of the intersection of these two technologies\n",
      "II. Latest Trends in Artificial Intelligence and Quantum Computing\n",
      "- Advancements in machine learning algorithms\n",
      "- Quantum supremacy achievements\n",
      "- Collaborations between AI and quantum computing companies\n",
      "III. Key Players in the Industry\n",
      "- Google's quantum computing initiatives\n",
      "- IBM's quantum computing research\n",
      "- Startups focusing on AI and quantum computing integration\n",
      "IV. Noteworthy News\n",
      "- Breakthroughs in quantum machine learning\n",
      "- Impact of quantum computing on AI applications\n",
      "- Ethical considerations in the development of AI and quantum computing\n",
      "V. Target Audience Analysis\n",
      "- Tech enthusiasts interested in cutting-edge technologies\n",
      "- Researchers and academics in the field of artificial intelligence and quantum computing\n",
      "- Business professionals seeking to understand the potential impact on their industries\n",
      "VI. SEO Keywords\n",
      "- Artificial Intelligence\n",
      "- Quantum Computing\n",
      "- Machine Learning\n",
      "- Quantum Supremacy\n",
      "- AI Integration\n",
      "VII. Call to Action\n",
      "- Explore the possibilities of AI and quantum computing integration in your industry\n",
      "- Stay updated on the latest advancements in the field by following reputable sources\n",
      "VIII. Resources\n",
      "- Research papers from leading institutions\n",
      "- Industry reports and whitepapers\n",
      "- Interviews with experts in the field\n",
      "\n",
      "By following this comprehensive content plan, we can create an engaging and informative blog article that covers the latest trends, key players, and noteworthy news in the intersection of Artificial Intelligence and Quantum Computing. This content will cater to our target audience's interests and provide valuable insights for making informed decisions in the rapidly evolving tech landscape.\u001b[0m\n",
      "\n",
      "\u001b[1m> Finished chain.\u001b[0m\n",
      "\u001b[1m\u001b[92m [DEBUG]: == [Content Planner] Task output: Title: Exploring the Intersection of Artificial Intelligence and Quantum Computing\n",
      "\n",
      "Outline:\n",
      "I. Introduction\n",
      "- Definition of Artificial Intelligence and Quantum Computing\n",
      "- Importance of the intersection of these two technologies\n",
      "II. Latest Trends in Artificial Intelligence and Quantum Computing\n",
      "- Advancements in machine learning algorithms\n",
      "- Quantum supremacy achievements\n",
      "- Collaborations between AI and quantum computing companies\n",
      "III. Key Players in the Industry\n",
      "- Google's quantum computing initiatives\n",
      "- IBM's quantum computing research\n",
      "- Startups focusing on AI and quantum computing integration\n",
      "IV. Noteworthy News\n",
      "- Breakthroughs in quantum machine learning\n",
      "- Impact of quantum computing on AI applications\n",
      "- Ethical considerations in the development of AI and quantum computing\n",
      "V. Target Audience Analysis\n",
      "- Tech enthusiasts interested in cutting-edge technologies\n",
      "- Researchers and academics in the field of artificial intelligence and quantum computing\n",
      "- Business professionals seeking to understand the potential impact on their industries\n",
      "VI. SEO Keywords\n",
      "- Artificial Intelligence\n",
      "- Quantum Computing\n",
      "- Machine Learning\n",
      "- Quantum Supremacy\n",
      "- AI Integration\n",
      "VII. Call to Action\n",
      "- Explore the possibilities of AI and quantum computing integration in your industry\n",
      "- Stay updated on the latest advancements in the field by following reputable sources\n",
      "VIII. Resources\n",
      "- Research papers from leading institutions\n",
      "- Industry reports and whitepapers\n",
      "- Interviews with experts in the field\n",
      "\n",
      "By following this comprehensive content plan, we can create an engaging and informative blog article that covers the latest trends, key players, and noteworthy news in the intersection of Artificial Intelligence and Quantum Computing. This content will cater to our target audience's interests and provide valuable insights for making informed decisions in the rapidly evolving tech landscape.\n",
      "\n",
      "\u001b[00m\n",
      "\u001b[1m\u001b[95m [DEBUG]: == Working Agent: Content Writer\u001b[00m\n",
      "\u001b[1m\u001b[95m [INFO]: == Starting Task: 1. Use the content plan to craft a compelling blog post on Artificial Intelligence and quantum Computing.\n",
      "2. Incorporate SEO keywords naturally.\n",
      "3. Sections/Subtitles are properly named in an engaging manner.\n",
      "4. Ensure the post is structured with an engaging introduction, insightful body, and a summarizing conclusion.\n",
      "5. Proofread for grammatical errors and alignment with the brand's voice.\n",
      "\u001b[00m\n",
      "\n",
      "\n",
      "\u001b[1m> Entering new CrewAgentExecutor chain...\u001b[0m\n",
      "\u001b[32;1m\u001b[1;3mI now can give a great answer\n",
      "\n",
      "Final Answer:\n",
      "\n",
      "# Exploring the Intersection of Artificial Intelligence and Quantum Computing\n",
      "\n",
      "## Introduction\n",
      "Artificial Intelligence (AI) and Quantum Computing are two cutting-edge technologies that are reshaping the way we approach complex problems. AI involves the development of algorithms that can perform tasks that typically require human intelligence, such as speech recognition and decision-making. On the other hand, Quantum Computing leverages the principles of quantum mechanics to process information in ways that traditional computers cannot. The intersection of these two fields holds great promise for solving previously intractable problems and unlocking new capabilities.\n",
      "\n",
      "## Latest Trends in Artificial Intelligence and Quantum Computing\n",
      "Recent advancements in machine learning algorithms have propelled AI to new heights, enabling applications in a wide range of industries from healthcare to finance. At the same time, quantum supremacy achievements have demonstrated the potential of quantum computing to outperform classical computers on certain tasks. Collaborations between AI and quantum computing companies are now underway, with the goal of leveraging the strengths of each technology to create more powerful and efficient systems.\n",
      "\n",
      "## Key Players in the Industry\n",
      "Google is at the forefront of quantum computing initiatives, with its quantum processor achieving quantum supremacy in 2019. IBM is also heavily invested in quantum computing research, offering cloud-based access to quantum systems for researchers and developers. Startups are emerging that focus on integrating AI and quantum computing, bringing innovative solutions to market and driving the industry forward.\n",
      "\n",
      "## Noteworthy News\n",
      "Breakthroughs in quantum machine learning are pushing the boundaries of what is possible with AI, enabling more efficient data processing and model training. The impact of quantum computing on AI applications is still being explored, but early results show promise for accelerating computations and solving optimization problems. Ethical considerations in the development of AI and quantum computing are also gaining attention, as researchers grapple with questions of bias, privacy, and accountability.\n",
      "\n",
      "## Target Audience Analysis\n",
      "Tech enthusiasts interested in cutting-edge technologies will find the intersection of AI and quantum computing fascinating, as will researchers and academics in the field. Business professionals seeking to understand the potential impact on their industries can gain valuable insights from exploring these technologies and their integration. By staying updated on the latest advancements, individuals in these groups can position themselves for success in the rapidly evolving tech landscape.\n",
      "\n",
      "## SEO Keywords\n",
      "Artificial Intelligence, Quantum Computing, Machine Learning, Quantum Supremacy, AI Integration\n",
      "\n",
      "## Call to Action\n",
      "Explore the possibilities of AI and quantum computing integration in your industry and stay updated on the latest advancements by following reputable sources. The convergence of these two technologies has the potential to revolutionize how we approach problem-solving and create new opportunities for innovation.\n",
      "\n",
      "## Resources\n",
      "For further insights into the intersection of AI and quantum computing, consider exploring research papers from leading institutions, industry reports and whitepapers, and interviews with experts in the field. Stay informed and engaged with the latest developments to stay ahead in this dynamic and rapidly evolving field.\u001b[0m\n",
      "\n",
      "\u001b[1m> Finished chain.\u001b[0m\n",
      "\u001b[1m\u001b[92m [DEBUG]: == [Content Writer] Task output: # Exploring the Intersection of Artificial Intelligence and Quantum Computing\n",
      "\n",
      "## Introduction\n",
      "Artificial Intelligence (AI) and Quantum Computing are two cutting-edge technologies that are reshaping the way we approach complex problems. AI involves the development of algorithms that can perform tasks that typically require human intelligence, such as speech recognition and decision-making. On the other hand, Quantum Computing leverages the principles of quantum mechanics to process information in ways that traditional computers cannot. The intersection of these two fields holds great promise for solving previously intractable problems and unlocking new capabilities.\n",
      "\n",
      "## Latest Trends in Artificial Intelligence and Quantum Computing\n",
      "Recent advancements in machine learning algorithms have propelled AI to new heights, enabling applications in a wide range of industries from healthcare to finance. At the same time, quantum supremacy achievements have demonstrated the potential of quantum computing to outperform classical computers on certain tasks. Collaborations between AI and quantum computing companies are now underway, with the goal of leveraging the strengths of each technology to create more powerful and efficient systems.\n",
      "\n",
      "## Key Players in the Industry\n",
      "Google is at the forefront of quantum computing initiatives, with its quantum processor achieving quantum supremacy in 2019. IBM is also heavily invested in quantum computing research, offering cloud-based access to quantum systems for researchers and developers. Startups are emerging that focus on integrating AI and quantum computing, bringing innovative solutions to market and driving the industry forward.\n",
      "\n",
      "## Noteworthy News\n",
      "Breakthroughs in quantum machine learning are pushing the boundaries of what is possible with AI, enabling more efficient data processing and model training. The impact of quantum computing on AI applications is still being explored, but early results show promise for accelerating computations and solving optimization problems. Ethical considerations in the development of AI and quantum computing are also gaining attention, as researchers grapple with questions of bias, privacy, and accountability.\n",
      "\n",
      "## Target Audience Analysis\n",
      "Tech enthusiasts interested in cutting-edge technologies will find the intersection of AI and quantum computing fascinating, as will researchers and academics in the field. Business professionals seeking to understand the potential impact on their industries can gain valuable insights from exploring these technologies and their integration. By staying updated on the latest advancements, individuals in these groups can position themselves for success in the rapidly evolving tech landscape.\n",
      "\n",
      "## SEO Keywords\n",
      "Artificial Intelligence, Quantum Computing, Machine Learning, Quantum Supremacy, AI Integration\n",
      "\n",
      "## Call to Action\n",
      "Explore the possibilities of AI and quantum computing integration in your industry and stay updated on the latest advancements by following reputable sources. The convergence of these two technologies has the potential to revolutionize how we approach problem-solving and create new opportunities for innovation.\n",
      "\n",
      "## Resources\n",
      "For further insights into the intersection of AI and quantum computing, consider exploring research papers from leading institutions, industry reports and whitepapers, and interviews with experts in the field. Stay informed and engaged with the latest developments to stay ahead in this dynamic and rapidly evolving field.\n",
      "\n",
      "\u001b[00m\n",
      "\u001b[1m\u001b[95m [DEBUG]: == Working Agent: Editor\u001b[00m\n",
      "\u001b[1m\u001b[95m [INFO]: == Starting Task: Proofread the given blog post for grammatical errors and alignment with the brand's voice.\u001b[00m\n",
      "\n",
      "\n",
      "\u001b[1m> Entering new CrewAgentExecutor chain...\u001b[0m\n",
      "\u001b[32;1m\u001b[1;3mI now can give a great answer\n",
      "\n",
      "Final Answer:\n",
      "# Exploring the Intersection of Artificial Intelligence and Quantum Computing\n",
      "\n",
      "## Introduction\n",
      "Artificial Intelligence (AI) and Quantum Computing are two cutting-edge technologies that are reshaping the way we approach complex problems. AI involves the development of algorithms that can perform tasks that typically require human intelligence, such as speech recognition and decision-making. On the other hand, Quantum Computing leverages the principles of quantum mechanics to process information in ways that traditional computers cannot. The intersection of these two fields holds great promise for solving previously intractable problems and unlocking new capabilities.\n",
      "\n",
      "## Latest Trends in Artificial Intelligence and Quantum Computing\n",
      "Recent advancements in machine learning algorithms have propelled AI to new heights, enabling applications in a wide range of industries from healthcare to finance. At the same time, quantum supremacy achievements have demonstrated the potential of quantum computing to outperform classical computers on certain tasks. Collaborations between AI and quantum computing companies are now underway, with the goal of leveraging the strengths of each technology to create more powerful and efficient systems.\n",
      "\n",
      "## Key Players in the Industry\n",
      "Google is at the forefront of quantum computing initiatives, with its quantum processor achieving quantum supremacy in 2019. IBM is also heavily invested in quantum computing research, offering cloud-based access to quantum systems for researchers and developers. Startups are emerging that focus on integrating AI and quantum computing, bringing innovative solutions to market and driving the industry forward.\n",
      "\n",
      "## Noteworthy News\n",
      "Breakthroughs in quantum machine learning are pushing the boundaries of what is possible with AI, enabling more efficient data processing and model training. The impact of quantum computing on AI applications is still being explored, but early results show promise for accelerating computations and solving optimization problems. Ethical considerations in the development of AI and quantum computing are also gaining attention, as researchers grapple with questions of bias, privacy, and accountability.\n",
      "\n",
      "## Target Audience Analysis\n",
      "Tech enthusiasts interested in cutting-edge technologies will find the intersection of AI and quantum computing fascinating, as will researchers and academics in the field. Business professionals seeking to understand the potential impact on their industries can gain valuable insights from exploring these technologies and their integration. By staying updated on the latest advancements, individuals in these groups can position themselves for success in the rapidly evolving tech landscape.\n",
      "\n",
      "## SEO Keywords\n",
      "Artificial Intelligence, Quantum Computing, Machine Learning, Quantum Supremacy, AI Integration\n",
      "\n",
      "## Call to Action\n",
      "Explore the possibilities of AI and quantum computing integration in your industry and stay updated on the latest advancements by following reputable sources. The convergence of these two technologies has the potential to revolutionize how we approach problem-solving and create new opportunities for innovation.\n",
      "\n",
      "## Resources\n",
      "For further insights into the intersection of AI and quantum computing, consider exploring research papers from leading institutions, industry reports and whitepapers, and interviews with experts in the field. Stay informed and engaged with the latest developments to stay ahead in this dynamic and rapidly evolving field.\u001b[0m\n",
      "\n",
      "\u001b[1m> Finished chain.\u001b[0m\n",
      "\u001b[1m\u001b[92m [DEBUG]: == [Editor] Task output: # Exploring the Intersection of Artificial Intelligence and Quantum Computing\n",
      "\n",
      "## Introduction\n",
      "Artificial Intelligence (AI) and Quantum Computing are two cutting-edge technologies that are reshaping the way we approach complex problems. AI involves the development of algorithms that can perform tasks that typically require human intelligence, such as speech recognition and decision-making. On the other hand, Quantum Computing leverages the principles of quantum mechanics to process information in ways that traditional computers cannot. The intersection of these two fields holds great promise for solving previously intractable problems and unlocking new capabilities.\n",
      "\n",
      "## Latest Trends in Artificial Intelligence and Quantum Computing\n",
      "Recent advancements in machine learning algorithms have propelled AI to new heights, enabling applications in a wide range of industries from healthcare to finance. At the same time, quantum supremacy achievements have demonstrated the potential of quantum computing to outperform classical computers on certain tasks. Collaborations between AI and quantum computing companies are now underway, with the goal of leveraging the strengths of each technology to create more powerful and efficient systems.\n",
      "\n",
      "## Key Players in the Industry\n",
      "Google is at the forefront of quantum computing initiatives, with its quantum processor achieving quantum supremacy in 2019. IBM is also heavily invested in quantum computing research, offering cloud-based access to quantum systems for researchers and developers. Startups are emerging that focus on integrating AI and quantum computing, bringing innovative solutions to market and driving the industry forward.\n",
      "\n",
      "## Noteworthy News\n",
      "Breakthroughs in quantum machine learning are pushing the boundaries of what is possible with AI, enabling more efficient data processing and model training. The impact of quantum computing on AI applications is still being explored, but early results show promise for accelerating computations and solving optimization problems. Ethical considerations in the development of AI and quantum computing are also gaining attention, as researchers grapple with questions of bias, privacy, and accountability.\n",
      "\n",
      "## Target Audience Analysis\n",
      "Tech enthusiasts interested in cutting-edge technologies will find the intersection of AI and quantum computing fascinating, as will researchers and academics in the field. Business professionals seeking to understand the potential impact on their industries can gain valuable insights from exploring these technologies and their integration. By staying updated on the latest advancements, individuals in these groups can position themselves for success in the rapidly evolving tech landscape.\n",
      "\n",
      "## SEO Keywords\n",
      "Artificial Intelligence, Quantum Computing, Machine Learning, Quantum Supremacy, AI Integration\n",
      "\n",
      "## Call to Action\n",
      "Explore the possibilities of AI and quantum computing integration in your industry and stay updated on the latest advancements by following reputable sources. The convergence of these two technologies has the potential to revolutionize how we approach problem-solving and create new opportunities for innovation.\n",
      "\n",
      "## Resources\n",
      "For further insights into the intersection of AI and quantum computing, consider exploring research papers from leading institutions, industry reports and whitepapers, and interviews with experts in the field. Stay informed and engaged with the latest developments to stay ahead in this dynamic and rapidly evolving field.\n",
      "\n",
      "\u001b[00m\n"
     ]
    }
   ],
   "source": [
    "result = crew.kickoff(inputs={\"topic\": \"Artificial Intelligence and quantum Computing\"})"
   ]
  },
  {
   "cell_type": "markdown",
   "metadata": {},
   "source": [
    "- Display the results of your execution as markdown in the notebook."
   ]
  },
  {
   "cell_type": "code",
   "execution_count": 16,
   "metadata": {
    "height": 47
   },
   "outputs": [
    {
     "data": {
      "text/markdown": [
       "# Exploring the Intersection of Artificial Intelligence and Quantum Computing\n",
       "\n",
       "## Introduction\n",
       "Artificial Intelligence (AI) and Quantum Computing are two cutting-edge technologies that are reshaping the way we approach complex problems. AI involves the development of algorithms that can perform tasks that typically require human intelligence, such as speech recognition and decision-making. On the other hand, Quantum Computing leverages the principles of quantum mechanics to process information in ways that traditional computers cannot. The intersection of these two fields holds great promise for solving previously intractable problems and unlocking new capabilities.\n",
       "\n",
       "## Latest Trends in Artificial Intelligence and Quantum Computing\n",
       "Recent advancements in machine learning algorithms have propelled AI to new heights, enabling applications in a wide range of industries from healthcare to finance. At the same time, quantum supremacy achievements have demonstrated the potential of quantum computing to outperform classical computers on certain tasks. Collaborations between AI and quantum computing companies are now underway, with the goal of leveraging the strengths of each technology to create more powerful and efficient systems.\n",
       "\n",
       "## Key Players in the Industry\n",
       "Google is at the forefront of quantum computing initiatives, with its quantum processor achieving quantum supremacy in 2019. IBM is also heavily invested in quantum computing research, offering cloud-based access to quantum systems for researchers and developers. Startups are emerging that focus on integrating AI and quantum computing, bringing innovative solutions to market and driving the industry forward.\n",
       "\n",
       "## Noteworthy News\n",
       "Breakthroughs in quantum machine learning are pushing the boundaries of what is possible with AI, enabling more efficient data processing and model training. The impact of quantum computing on AI applications is still being explored, but early results show promise for accelerating computations and solving optimization problems. Ethical considerations in the development of AI and quantum computing are also gaining attention, as researchers grapple with questions of bias, privacy, and accountability.\n",
       "\n",
       "## Target Audience Analysis\n",
       "Tech enthusiasts interested in cutting-edge technologies will find the intersection of AI and quantum computing fascinating, as will researchers and academics in the field. Business professionals seeking to understand the potential impact on their industries can gain valuable insights from exploring these technologies and their integration. By staying updated on the latest advancements, individuals in these groups can position themselves for success in the rapidly evolving tech landscape.\n",
       "\n",
       "## SEO Keywords\n",
       "Artificial Intelligence, Quantum Computing, Machine Learning, Quantum Supremacy, AI Integration\n",
       "\n",
       "## Call to Action\n",
       "Explore the possibilities of AI and quantum computing integration in your industry and stay updated on the latest advancements by following reputable sources. The convergence of these two technologies has the potential to revolutionize how we approach problem-solving and create new opportunities for innovation.\n",
       "\n",
       "## Resources\n",
       "For further insights into the intersection of AI and quantum computing, consider exploring research papers from leading institutions, industry reports and whitepapers, and interviews with experts in the field. Stay informed and engaged with the latest developments to stay ahead in this dynamic and rapidly evolving field."
      ],
      "text/plain": [
       "<IPython.core.display.Markdown object>"
      ]
     },
     "execution_count": 16,
     "metadata": {},
     "output_type": "execute_result"
    }
   ],
   "source": [
    "from IPython.display import Markdown\n",
    "Markdown(result)"
   ]
  },
  {
   "cell_type": "markdown",
   "metadata": {},
   "source": [
    "## Try it Yourself\n",
    "\n",
    "- Pass in a topic of your choice and see what the agents come up with!"
   ]
  },
  {
   "cell_type": "code",
   "execution_count": null,
   "metadata": {
    "height": 47
   },
   "outputs": [],
   "source": [
    "topic = \"YOUR TOPIC HERE\"\n",
    "result = crew.kickoff(inputs={\"topic\": topic})"
   ]
  },
  {
   "cell_type": "code",
   "execution_count": null,
   "metadata": {
    "height": 30
   },
   "outputs": [],
   "source": [
    "Markdown(result)"
   ]
  },
  {
   "cell_type": "markdown",
   "metadata": {},
   "source": [
    "<a name='1'></a>\n",
    " ## Other Popular Models as LLM for your Agents"
   ]
  },
  {
   "cell_type": "markdown",
   "metadata": {},
   "source": [
    "#### Hugging Face (HuggingFaceHub endpoint)\n",
    "\n",
    "```Python\n",
    "from langchain_community.llms import HuggingFaceHub\n",
    "\n",
    "llm = HuggingFaceHub(\n",
    "    repo_id=\"HuggingFaceH4/zephyr-7b-beta\",\n",
    "    huggingfacehub_api_token=\"<HF_TOKEN_HERE>\",\n",
    "    task=\"text-generation\",\n",
    ")\n",
    "\n",
    "### you will pass \"llm\" to your agent function\n",
    "```"
   ]
  },
  {
   "cell_type": "markdown",
   "metadata": {},
   "source": [
    "#### Mistral API\n",
    "\n",
    "```Python\n",
    "OPENAI_API_KEY=your-mistral-api-key\n",
    "OPENAI_API_BASE=https://api.mistral.ai/v1\n",
    "OPENAI_MODEL_NAME=\"mistral-small\"\n",
    "```"
   ]
  },
  {
   "cell_type": "markdown",
   "metadata": {},
   "source": [
    "#### Cohere\n",
    "\n",
    "```Python\n",
    "from langchain_community.chat_models import ChatCohere\n",
    "# Initialize language model\n",
    "os.environ[\"COHERE_API_KEY\"] = \"your-cohere-api-key\"\n",
    "llm = ChatCohere()\n",
    "\n",
    "### you will pass \"llm\" to your agent function\n",
    "```"
   ]
  },
  {
   "cell_type": "markdown",
   "metadata": {},
   "source": [
    "### For using Llama locally with Ollama and more, checkout the crewAI documentation on [Connecting to any LLM](https://docs.crewai.com/how-to/LLM-Connections/)."
   ]
  },
  {
   "cell_type": "code",
   "execution_count": null,
   "metadata": {
    "height": 30
   },
   "outputs": [],
   "source": []
  },
  {
   "cell_type": "code",
   "execution_count": null,
   "metadata": {
    "height": 30
   },
   "outputs": [],
   "source": []
  },
  {
   "cell_type": "code",
   "execution_count": null,
   "metadata": {
    "height": 30
   },
   "outputs": [],
   "source": []
  }
 ],
 "metadata": {
  "colab": {
   "gpuType": "T4",
   "provenance": []
  },
  "kernelspec": {
   "display_name": "venv",
   "language": "python",
   "name": "python3"
  },
  "language_info": {
   "codemirror_mode": {
    "name": "ipython",
    "version": 3
   },
   "file_extension": ".py",
   "mimetype": "text/x-python",
   "name": "python",
   "nbconvert_exporter": "python",
   "pygments_lexer": "ipython3",
   "version": "3.12.3"
  }
 },
 "nbformat": 4,
 "nbformat_minor": 4
}
